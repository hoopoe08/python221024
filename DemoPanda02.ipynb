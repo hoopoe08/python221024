{
 "cells": [
  {
   "cell_type": "code",
   "execution_count": 1,
   "metadata": {},
   "outputs": [
    {
     "name": "stdout",
     "output_type": "stream",
     "text": [
      "Using matplotlib backend: <object object at 0x0000010A71C08660>\n",
      "%pylab is deprecated, use %matplotlib inline and import the required libraries.\n",
      "Populating the interactive namespace from numpy and matplotlib\n"
     ]
    },
    {
     "data": {
      "text/plain": [
       "[<matplotlib.lines.Line2D at 0x10a78130d30>]"
      ]
     },
     "execution_count": 1,
     "metadata": {},
     "output_type": "execute_result"
    },
    {
     "data": {
      "image/png": "[encoded data removed]",
      "text/plain": [
       "<Figure size 640x480 with 1 Axes>"
      ]
     },
     "metadata": {},
     "output_type": "display_data"
    }
   ],
   "source": [
    "#jupyter notebook\n",
    "%pylab\n",
    "%matplotlib inline\n",
    "import matplotlib.pyplot as plt\n",
    "\n",
    "plot(arange(10))\n",
    "#셀단위로 실행 : shift +enter"
   ]
  },
  {
   "cell_type": "code",
   "execution_count": 2,
   "metadata": {},
   "outputs": [
    {
     "name": "stdout",
     "output_type": "stream",
     "text": [
      "<class 'pandas.core.series.Series'>\n",
      "0    10\n",
      "1    20\n",
      "2    30\n",
      "3    40\n",
      "4    50\n",
      "dtype: int64\n"
     ]
    }
   ],
   "source": [
    "#pandas를 접근하는 2가지 선언\n",
    "from pandas import Series, DataFrame\n",
    "import pandas as pd\n",
    "\n",
    "#하나의 시리즈를 생성\n",
    "ycampus = Series([10,20,30,40,50])\n",
    "print(type(ycampus))\n",
    "print(ycampus)\n",
    "#shift + enter"
   ]
  },
  {
   "cell_type": "code",
   "execution_count": 3,
   "metadata": {},
   "outputs": [
    {
     "name": "stdout",
     "output_type": "stream",
     "text": [
      "22-10-1    10\n",
      "22-10-2    20\n",
      "22-10-3    30\n",
      "22-10-4    40\n",
      "22-10-5    50\n",
      "dtype: int64\n"
     ]
    }
   ],
   "source": [
    "ycampus = Series([10,20,30,40,50], \n",
    "    index=['22-10-1', '22-10-2', '22-10-3','22-10-4','22-10-5'])\n",
    "#index를 넣을 수 있음\n",
    "#안넣으면 0,1,...\n",
    "print(ycampus)"
   ]
  },
  {
   "cell_type": "code",
   "execution_count": 4,
   "metadata": {},
   "outputs": [
    {
     "data": {
      "text/plain": [
       "30"
      ]
     },
     "execution_count": 4,
     "metadata": {},
     "output_type": "execute_result"
    }
   ],
   "source": [
    "#슬라이싱(인덱싱)\n",
    "ycampus['22-10-3']"
   ]
  },
  {
   "cell_type": "code",
   "execution_count": 5,
   "metadata": {},
   "outputs": [
    {
     "name": "stdout",
     "output_type": "stream",
     "text": [
      "<class 'dict'>\n",
      "{'foreigner': [1, 2, 3, 4, 5, 6], 'sratio': [10, 20, 30, 40, 50, 60], 'org': [100, 200, 300, 400, 500, 600], 'sprice': [1, 2, 3, 4, 5, 6], 'private': [10, 20, 30, 40, 50, 60]}\n"
     ]
    }
   ],
   "source": [
    "#데이터프레임 생성(파이선의 딕셔너리에 저장)\n",
    "data = {\"foreigner\" : [1,2,3,4,5,6],\n",
    "         \"sratio\": [10,20,30,40,50,60],\n",
    "         \"org\":[100,200,300,400,500,600],\n",
    "         \"sprice\" : [1,2,3,4,5,6],\n",
    "         \"private\":[10,20,30,40,50,60]}\n",
    "print(type(data))\n",
    "print(data)"
   ]
  },
  {
   "cell_type": "code",
   "execution_count": 6,
   "metadata": {},
   "outputs": [
    {
     "data": {
      "text/html": [
       "<div>\n",
       "<style scoped>\n",
       "    .dataframe tbody tr th:only-of-type {\n",
       "        vertical-align: middle;\n",
       "    }\n",
       "\n",
       "    .dataframe tbody tr th {\n",
       "        vertical-align: top;\n",
       "    }\n",
       "\n",
       "    .dataframe thead th {\n",
       "        text-align: right;\n",
       "    }\n",
       "</style>\n",
       "<table border=\"1\" class=\"dataframe\">\n",
       "  <thead>\n",
       "    <tr style=\"text-align: right;\">\n",
       "      <th></th>\n",
       "      <th>foreigner</th>\n",
       "      <th>sratio</th>\n",
       "      <th>org</th>\n",
       "      <th>sprice</th>\n",
       "      <th>private</th>\n",
       "    </tr>\n",
       "  </thead>\n",
       "  <tbody>\n",
       "    <tr>\n",
       "      <th>0</th>\n",
       "      <td>1</td>\n",
       "      <td>10</td>\n",
       "      <td>100</td>\n",
       "      <td>1</td>\n",
       "      <td>10</td>\n",
       "    </tr>\n",
       "    <tr>\n",
       "      <th>1</th>\n",
       "      <td>2</td>\n",
       "      <td>20</td>\n",
       "      <td>200</td>\n",
       "      <td>2</td>\n",
       "      <td>20</td>\n",
       "    </tr>\n",
       "    <tr>\n",
       "      <th>2</th>\n",
       "      <td>3</td>\n",
       "      <td>30</td>\n",
       "      <td>300</td>\n",
       "      <td>3</td>\n",
       "      <td>30</td>\n",
       "    </tr>\n",
       "    <tr>\n",
       "      <th>3</th>\n",
       "      <td>4</td>\n",
       "      <td>40</td>\n",
       "      <td>400</td>\n",
       "      <td>4</td>\n",
       "      <td>40</td>\n",
       "    </tr>\n",
       "    <tr>\n",
       "      <th>4</th>\n",
       "      <td>5</td>\n",
       "      <td>50</td>\n",
       "      <td>500</td>\n",
       "      <td>5</td>\n",
       "      <td>50</td>\n",
       "    </tr>\n",
       "    <tr>\n",
       "      <th>5</th>\n",
       "      <td>6</td>\n",
       "      <td>60</td>\n",
       "      <td>600</td>\n",
       "      <td>6</td>\n",
       "      <td>60</td>\n",
       "    </tr>\n",
       "  </tbody>\n",
       "</table>\n",
       "</div>"
      ],
      "text/plain": [
       "   foreigner  sratio  org  sprice  private\n",
       "0          1      10  100       1       10\n",
       "1          2      20  200       2       20\n",
       "2          3      30  300       3       30\n",
       "3          4      40  400       4       40\n",
       "4          5      50  500       5       50\n",
       "5          6      60  600       6       60"
      ]
     },
     "execution_count": 6,
     "metadata": {},
     "output_type": "execute_result"
    }
   ],
   "source": [
    "#판다스의 데이터프레임으로 로딩\n",
    "frame = DataFrame(data)\n",
    "frame"
   ]
  },
  {
   "cell_type": "code",
   "execution_count": 7,
   "metadata": {},
   "outputs": [
    {
     "data": {
      "text/html": [
       "<div>\n",
       "<style scoped>\n",
       "    .dataframe tbody tr th:only-of-type {\n",
       "        vertical-align: middle;\n",
       "    }\n",
       "\n",
       "    .dataframe tbody tr th {\n",
       "        vertical-align: top;\n",
       "    }\n",
       "\n",
       "    .dataframe thead th {\n",
       "        text-align: right;\n",
       "    }\n",
       "</style>\n",
       "<table border=\"1\" class=\"dataframe\">\n",
       "  <thead>\n",
       "    <tr style=\"text-align: right;\">\n",
       "      <th></th>\n",
       "      <th>private</th>\n",
       "      <th>foreigner</th>\n",
       "      <th>sratio</th>\n",
       "      <th>org</th>\n",
       "      <th>sprice</th>\n",
       "    </tr>\n",
       "  </thead>\n",
       "  <tbody>\n",
       "    <tr>\n",
       "      <th>0</th>\n",
       "      <td>10</td>\n",
       "      <td>1</td>\n",
       "      <td>10</td>\n",
       "      <td>100</td>\n",
       "      <td>1</td>\n",
       "    </tr>\n",
       "    <tr>\n",
       "      <th>1</th>\n",
       "      <td>20</td>\n",
       "      <td>2</td>\n",
       "      <td>20</td>\n",
       "      <td>200</td>\n",
       "      <td>2</td>\n",
       "    </tr>\n",
       "    <tr>\n",
       "      <th>2</th>\n",
       "      <td>30</td>\n",
       "      <td>3</td>\n",
       "      <td>30</td>\n",
       "      <td>300</td>\n",
       "      <td>3</td>\n",
       "    </tr>\n",
       "    <tr>\n",
       "      <th>3</th>\n",
       "      <td>40</td>\n",
       "      <td>4</td>\n",
       "      <td>40</td>\n",
       "      <td>400</td>\n",
       "      <td>4</td>\n",
       "    </tr>\n",
       "    <tr>\n",
       "      <th>4</th>\n",
       "      <td>50</td>\n",
       "      <td>5</td>\n",
       "      <td>50</td>\n",
       "      <td>500</td>\n",
       "      <td>5</td>\n",
       "    </tr>\n",
       "    <tr>\n",
       "      <th>5</th>\n",
       "      <td>60</td>\n",
       "      <td>6</td>\n",
       "      <td>60</td>\n",
       "      <td>600</td>\n",
       "      <td>6</td>\n",
       "    </tr>\n",
       "  </tbody>\n",
       "</table>\n",
       "</div>"
      ],
      "text/plain": [
       "   private  foreigner  sratio  org  sprice\n",
       "0       10          1      10  100       1\n",
       "1       20          2      20  200       2\n",
       "2       30          3      30  300       3\n",
       "3       40          4      40  400       4\n",
       "4       50          5      50  500       5\n",
       "5       60          6      60  600       6"
      ]
     },
     "execution_count": 7,
     "metadata": {},
     "output_type": "execute_result"
    }
   ],
   "source": [
    "frame2 = DataFrame(data,\n",
    "    columns=['private','foreigner', 'sratio', 'org','sprice'])\n",
    "frame2"
   ]
  },
  {
   "cell_type": "code",
   "execution_count": 8,
   "metadata": {},
   "outputs": [
    {
     "data": {
      "text/html": [
       "<div>\n",
       "<style scoped>\n",
       "    .dataframe tbody tr th:only-of-type {\n",
       "        vertical-align: middle;\n",
       "    }\n",
       "\n",
       "    .dataframe tbody tr th {\n",
       "        vertical-align: top;\n",
       "    }\n",
       "\n",
       "    .dataframe thead th {\n",
       "        text-align: right;\n",
       "    }\n",
       "</style>\n",
       "<table border=\"1\" class=\"dataframe\">\n",
       "  <thead>\n",
       "    <tr style=\"text-align: right;\">\n",
       "      <th></th>\n",
       "      <th>private</th>\n",
       "      <th>foreigner</th>\n",
       "      <th>sratio</th>\n",
       "      <th>org</th>\n",
       "      <th>sprice</th>\n",
       "    </tr>\n",
       "  </thead>\n",
       "  <tbody>\n",
       "    <tr>\n",
       "      <th>22-10-1</th>\n",
       "      <td>10</td>\n",
       "      <td>1</td>\n",
       "      <td>10</td>\n",
       "      <td>100</td>\n",
       "      <td>1</td>\n",
       "    </tr>\n",
       "    <tr>\n",
       "      <th>22-10-2</th>\n",
       "      <td>20</td>\n",
       "      <td>2</td>\n",
       "      <td>20</td>\n",
       "      <td>200</td>\n",
       "      <td>2</td>\n",
       "    </tr>\n",
       "    <tr>\n",
       "      <th>22-10-3</th>\n",
       "      <td>30</td>\n",
       "      <td>3</td>\n",
       "      <td>30</td>\n",
       "      <td>300</td>\n",
       "      <td>3</td>\n",
       "    </tr>\n",
       "    <tr>\n",
       "      <th>22-10-4</th>\n",
       "      <td>40</td>\n",
       "      <td>4</td>\n",
       "      <td>40</td>\n",
       "      <td>400</td>\n",
       "      <td>4</td>\n",
       "    </tr>\n",
       "    <tr>\n",
       "      <th>22-10-5</th>\n",
       "      <td>50</td>\n",
       "      <td>5</td>\n",
       "      <td>50</td>\n",
       "      <td>500</td>\n",
       "      <td>5</td>\n",
       "    </tr>\n",
       "    <tr>\n",
       "      <th>22-10-6</th>\n",
       "      <td>60</td>\n",
       "      <td>6</td>\n",
       "      <td>60</td>\n",
       "      <td>600</td>\n",
       "      <td>6</td>\n",
       "    </tr>\n",
       "  </tbody>\n",
       "</table>\n",
       "</div>"
      ],
      "text/plain": [
       "         private  foreigner  sratio  org  sprice\n",
       "22-10-1       10          1      10  100       1\n",
       "22-10-2       20          2      20  200       2\n",
       "22-10-3       30          3      30  300       3\n",
       "22-10-4       40          4      40  400       4\n",
       "22-10-5       50          5      50  500       5\n",
       "22-10-6       60          6      60  600       6"
      ]
     },
     "execution_count": 8,
     "metadata": {},
     "output_type": "execute_result"
    }
   ],
   "source": [
    "frame3 = DataFrame(data,\n",
    "    columns=['private','foreigner', 'sratio', 'org','sprice'],\n",
    "    index=['22-10-1','22-10-2','22-10-3','22-10-4','22-10-5','22-10-6'])\n",
    "\n",
    "frame3"
   ]
  },
  {
   "cell_type": "code",
   "execution_count": 10,
   "metadata": {},
   "outputs": [
    {
     "data": {
      "text/plain": [
       "22-10-1    100\n",
       "22-10-2    200\n",
       "22-10-3    300\n",
       "22-10-4    400\n",
       "22-10-5    500\n",
       "22-10-6    600\n",
       "Name: org, dtype: int64"
      ]
     },
     "execution_count": 10,
     "metadata": {},
     "output_type": "execute_result"
    }
   ],
   "source": [
    "#특정컬럼을 슬라이싱(시리즈로 저장)\n",
    "frame3[\"org\"]"
   ]
  },
  {
   "cell_type": "code",
   "execution_count": 12,
   "metadata": {},
   "outputs": [
    {
     "data": {
      "text/plain": [
       "private       60\n",
       "foreigner      6\n",
       "sratio        60\n",
       "org          600\n",
       "sprice         6\n",
       "Name: 22-10-6, dtype: int64"
      ]
     },
     "execution_count": 12,
     "metadata": {},
     "output_type": "execute_result"
    }
   ],
   "source": [
    "#특정행을 슬라이싱(location)\n",
    "frame3.loc[\"22-10-6\"]"
   ]
  },
  {
   "cell_type": "code",
   "execution_count": 13,
   "metadata": {},
   "outputs": [
    {
     "ename": "KeyError",
     "evalue": "'22-10-6'",
     "output_type": "error",
     "traceback": [
      "\u001b[1;31m---------------------------------------------------------------------------\u001b[0m",
      "\u001b[1;31mKeyError\u001b[0m                                  Traceback (most recent call last)",
      "File \u001b[1;32mc:\\Python39\\lib\\site-packages\\pandas\\core\\indexes\\base.py:3803\u001b[0m, in \u001b[0;36mIndex.get_loc\u001b[1;34m(self, key, method, tolerance)\u001b[0m\n\u001b[0;32m   3802\u001b[0m \u001b[39mtry\u001b[39;00m:\n\u001b[1;32m-> 3803\u001b[0m     \u001b[39mreturn\u001b[39;00m \u001b[39mself\u001b[39;49m\u001b[39m.\u001b[39;49m_engine\u001b[39m.\u001b[39;49mget_loc(casted_key)\n\u001b[0;32m   3804\u001b[0m \u001b[39mexcept\u001b[39;00m \u001b[39mKeyError\u001b[39;00m \u001b[39mas\u001b[39;00m err:\n",
      "File \u001b[1;32mc:\\Python39\\lib\\site-packages\\pandas\\_libs\\index.pyx:138\u001b[0m, in \u001b[0;36mpandas._libs.index.IndexEngine.get_loc\u001b[1;34m()\u001b[0m\n",
      "File \u001b[1;32mc:\\Python39\\lib\\site-packages\\pandas\\_libs\\index.pyx:165\u001b[0m, in \u001b[0;36mpandas._libs.index.IndexEngine.get_loc\u001b[1;34m()\u001b[0m\n",
      "File \u001b[1;32mpandas\\_libs\\hashtable_class_helper.pxi:5745\u001b[0m, in \u001b[0;36mpandas._libs.hashtable.PyObjectHashTable.get_item\u001b[1;34m()\u001b[0m\n",
      "File \u001b[1;32mpandas\\_libs\\hashtable_class_helper.pxi:5753\u001b[0m, in \u001b[0;36mpandas._libs.hashtable.PyObjectHashTable.get_item\u001b[1;34m()\u001b[0m\n",
      "\u001b[1;31mKeyError\u001b[0m: '22-10-6'",
      "\nThe above exception was the direct cause of the following exception:\n",
      "\u001b[1;31mKeyError\u001b[0m                                  Traceback (most recent call last)",
      "Cell \u001b[1;32mIn [13], line 1\u001b[0m\n\u001b[1;32m----> 1\u001b[0m frame3[\u001b[39m\"\u001b[39;49m\u001b[39m22-10-6\u001b[39;49m\u001b[39m\"\u001b[39;49m]\n",
      "File \u001b[1;32mc:\\Python39\\lib\\site-packages\\pandas\\core\\frame.py:3804\u001b[0m, in \u001b[0;36mDataFrame.__getitem__\u001b[1;34m(self, key)\u001b[0m\n\u001b[0;32m   3802\u001b[0m \u001b[39mif\u001b[39;00m \u001b[39mself\u001b[39m\u001b[39m.\u001b[39mcolumns\u001b[39m.\u001b[39mnlevels \u001b[39m>\u001b[39m \u001b[39m1\u001b[39m:\n\u001b[0;32m   3803\u001b[0m     \u001b[39mreturn\u001b[39;00m \u001b[39mself\u001b[39m\u001b[39m.\u001b[39m_getitem_multilevel(key)\n\u001b[1;32m-> 3804\u001b[0m indexer \u001b[39m=\u001b[39m \u001b[39mself\u001b[39;49m\u001b[39m.\u001b[39;49mcolumns\u001b[39m.\u001b[39;49mget_loc(key)\n\u001b[0;32m   3805\u001b[0m \u001b[39mif\u001b[39;00m is_integer(indexer):\n\u001b[0;32m   3806\u001b[0m     indexer \u001b[39m=\u001b[39m [indexer]\n",
      "File \u001b[1;32mc:\\Python39\\lib\\site-packages\\pandas\\core\\indexes\\base.py:3805\u001b[0m, in \u001b[0;36mIndex.get_loc\u001b[1;34m(self, key, method, tolerance)\u001b[0m\n\u001b[0;32m   3803\u001b[0m     \u001b[39mreturn\u001b[39;00m \u001b[39mself\u001b[39m\u001b[39m.\u001b[39m_engine\u001b[39m.\u001b[39mget_loc(casted_key)\n\u001b[0;32m   3804\u001b[0m \u001b[39mexcept\u001b[39;00m \u001b[39mKeyError\u001b[39;00m \u001b[39mas\u001b[39;00m err:\n\u001b[1;32m-> 3805\u001b[0m     \u001b[39mraise\u001b[39;00m \u001b[39mKeyError\u001b[39;00m(key) \u001b[39mfrom\u001b[39;00m \u001b[39merr\u001b[39;00m\n\u001b[0;32m   3806\u001b[0m \u001b[39mexcept\u001b[39;00m \u001b[39mTypeError\u001b[39;00m:\n\u001b[0;32m   3807\u001b[0m     \u001b[39m# If we have a listlike key, _check_indexing_error will raise\u001b[39;00m\n\u001b[0;32m   3808\u001b[0m     \u001b[39m#  InvalidIndexError. Otherwise we fall through and re-raise\u001b[39;00m\n\u001b[0;32m   3809\u001b[0m     \u001b[39m#  the TypeError.\u001b[39;00m\n\u001b[0;32m   3810\u001b[0m     \u001b[39mself\u001b[39m\u001b[39m.\u001b[39m_check_indexing_error(key)\n",
      "\u001b[1;31mKeyError\u001b[0m: '22-10-6'"
     ]
    }
   ],
   "source": [
    "#frame3[\"22-10-6\"] \n",
    "#KeyError 발생"
   ]
  },
  {
   "cell_type": "code",
   "execution_count": 14,
   "metadata": {},
   "outputs": [
    {
     "data": {
      "text/html": [
       "<div>\n",
       "<style scoped>\n",
       "    .dataframe tbody tr th:only-of-type {\n",
       "        vertical-align: middle;\n",
       "    }\n",
       "\n",
       "    .dataframe tbody tr th {\n",
       "        vertical-align: top;\n",
       "    }\n",
       "\n",
       "    .dataframe thead th {\n",
       "        text-align: right;\n",
       "    }\n",
       "</style>\n",
       "<table border=\"1\" class=\"dataframe\">\n",
       "  <thead>\n",
       "    <tr style=\"text-align: right;\">\n",
       "      <th></th>\n",
       "      <th>22-10-1</th>\n",
       "      <th>22-10-2</th>\n",
       "      <th>22-10-3</th>\n",
       "      <th>22-10-4</th>\n",
       "      <th>22-10-5</th>\n",
       "      <th>22-10-6</th>\n",
       "    </tr>\n",
       "  </thead>\n",
       "  <tbody>\n",
       "    <tr>\n",
       "      <th>private</th>\n",
       "      <td>10</td>\n",
       "      <td>20</td>\n",
       "      <td>30</td>\n",
       "      <td>40</td>\n",
       "      <td>50</td>\n",
       "      <td>60</td>\n",
       "    </tr>\n",
       "    <tr>\n",
       "      <th>foreigner</th>\n",
       "      <td>1</td>\n",
       "      <td>2</td>\n",
       "      <td>3</td>\n",
       "      <td>4</td>\n",
       "      <td>5</td>\n",
       "      <td>6</td>\n",
       "    </tr>\n",
       "    <tr>\n",
       "      <th>sratio</th>\n",
       "      <td>10</td>\n",
       "      <td>20</td>\n",
       "      <td>30</td>\n",
       "      <td>40</td>\n",
       "      <td>50</td>\n",
       "      <td>60</td>\n",
       "    </tr>\n",
       "    <tr>\n",
       "      <th>org</th>\n",
       "      <td>100</td>\n",
       "      <td>200</td>\n",
       "      <td>300</td>\n",
       "      <td>400</td>\n",
       "      <td>500</td>\n",
       "      <td>600</td>\n",
       "    </tr>\n",
       "    <tr>\n",
       "      <th>sprice</th>\n",
       "      <td>1</td>\n",
       "      <td>2</td>\n",
       "      <td>3</td>\n",
       "      <td>4</td>\n",
       "      <td>5</td>\n",
       "      <td>6</td>\n",
       "    </tr>\n",
       "  </tbody>\n",
       "</table>\n",
       "</div>"
      ],
      "text/plain": [
       "           22-10-1  22-10-2  22-10-3  22-10-4  22-10-5  22-10-6\n",
       "private         10       20       30       40       50       60\n",
       "foreigner        1        2        3        4        5        6\n",
       "sratio          10       20       30       40       50       60\n",
       "org            100      200      300      400      500      600\n",
       "sprice           1        2        3        4        5        6"
      ]
     },
     "execution_count": 14,
     "metadata": {},
     "output_type": "execute_result"
    }
   ],
   "source": [
    "frame3.T"
   ]
  },
  {
   "cell_type": "code",
   "execution_count": 15,
   "metadata": {},
   "outputs": [
    {
     "name": "stdout",
     "output_type": "stream",
     "text": [
      "id, name, price, description\n",
      "1, iphone, 890000, iphone 6s 7 8 x \n",
      "2, android, 990000, samsung phone\n",
      "3, winphone, 450000, microsoft winphone \n"
     ]
    }
   ],
   "source": [
    "#dos cmd 실행\n",
    "! type c:\\work\\ex1.csv"
   ]
  },
  {
   "cell_type": "code",
   "execution_count": 16,
   "metadata": {},
   "outputs": [
    {
     "data": {
      "text/html": [
       "<div>\n",
       "<style scoped>\n",
       "    .dataframe tbody tr th:only-of-type {\n",
       "        vertical-align: middle;\n",
       "    }\n",
       "\n",
       "    .dataframe tbody tr th {\n",
       "        vertical-align: top;\n",
       "    }\n",
       "\n",
       "    .dataframe thead th {\n",
       "        text-align: right;\n",
       "    }\n",
       "</style>\n",
       "<table border=\"1\" class=\"dataframe\">\n",
       "  <thead>\n",
       "    <tr style=\"text-align: right;\">\n",
       "      <th></th>\n",
       "      <th>id</th>\n",
       "      <th>name</th>\n",
       "      <th>price</th>\n",
       "      <th>description</th>\n",
       "    </tr>\n",
       "  </thead>\n",
       "  <tbody>\n",
       "    <tr>\n",
       "      <th>0</th>\n",
       "      <td>1</td>\n",
       "      <td>iphone</td>\n",
       "      <td>890000</td>\n",
       "      <td>iphone 6s 7 8 x</td>\n",
       "    </tr>\n",
       "    <tr>\n",
       "      <th>1</th>\n",
       "      <td>2</td>\n",
       "      <td>android</td>\n",
       "      <td>990000</td>\n",
       "      <td>samsung phone</td>\n",
       "    </tr>\n",
       "    <tr>\n",
       "      <th>2</th>\n",
       "      <td>3</td>\n",
       "      <td>winphone</td>\n",
       "      <td>450000</td>\n",
       "      <td>microsoft winphone</td>\n",
       "    </tr>\n",
       "  </tbody>\n",
       "</table>\n",
       "</div>"
      ],
      "text/plain": [
       "   id       name   price           description\n",
       "0   1     iphone  890000      iphone 6s 7 8 x \n",
       "1   2    android  990000         samsung phone\n",
       "2   3   winphone  450000   microsoft winphone "
      ]
     },
     "execution_count": 16,
     "metadata": {},
     "output_type": "execute_result"
    }
   ],
   "source": [
    "df = pd.read_csv('c:\\\\work\\\\ex1.csv')\n",
    "df"
   ]
  },
  {
   "cell_type": "code",
   "execution_count": 17,
   "metadata": {},
   "outputs": [
    {
     "name": "stdout",
     "output_type": "stream",
     "text": [
      "1, iphone, 890000, iphone 6s 7 8 x \n",
      "2, android, 990000, samsung phone\n",
      "3, winphone, 450000, microsoft winphone \n"
     ]
    }
   ],
   "source": [
    "! type c:\\work\\ex2.csv"
   ]
  },
  {
   "cell_type": "code",
   "execution_count": 19,
   "metadata": {},
   "outputs": [
    {
     "data": {
      "text/html": [
       "<div>\n",
       "<style scoped>\n",
       "    .dataframe tbody tr th:only-of-type {\n",
       "        vertical-align: middle;\n",
       "    }\n",
       "\n",
       "    .dataframe tbody tr th {\n",
       "        vertical-align: top;\n",
       "    }\n",
       "\n",
       "    .dataframe thead th {\n",
       "        text-align: right;\n",
       "    }\n",
       "</style>\n",
       "<table border=\"1\" class=\"dataframe\">\n",
       "  <thead>\n",
       "    <tr style=\"text-align: right;\">\n",
       "      <th></th>\n",
       "      <th>id</th>\n",
       "      <th>name</th>\n",
       "      <th>price</th>\n",
       "      <th>desc</th>\n",
       "    </tr>\n",
       "  </thead>\n",
       "  <tbody>\n",
       "    <tr>\n",
       "      <th>0</th>\n",
       "      <td>1</td>\n",
       "      <td>iphone</td>\n",
       "      <td>890000</td>\n",
       "      <td>iphone 6s 7 8 x</td>\n",
       "    </tr>\n",
       "    <tr>\n",
       "      <th>1</th>\n",
       "      <td>2</td>\n",
       "      <td>android</td>\n",
       "      <td>990000</td>\n",
       "      <td>samsung phone</td>\n",
       "    </tr>\n",
       "    <tr>\n",
       "      <th>2</th>\n",
       "      <td>3</td>\n",
       "      <td>winphone</td>\n",
       "      <td>450000</td>\n",
       "      <td>microsoft winphone</td>\n",
       "    </tr>\n",
       "  </tbody>\n",
       "</table>\n",
       "</div>"
      ],
      "text/plain": [
       "   id       name   price                  desc\n",
       "0   1     iphone  890000      iphone 6s 7 8 x \n",
       "1   2    android  990000         samsung phone\n",
       "2   3   winphone  450000   microsoft winphone "
      ]
     },
     "execution_count": 19,
     "metadata": {},
     "output_type": "execute_result"
    }
   ],
   "source": [
    "#file에 names 추가\n",
    "df2 = pd.read_csv('c:\\\\work\\\\ex2.csv',\n",
    "    names=['id', 'name','price','desc'])\n",
    "df2"
   ]
  },
  {
   "cell_type": "code",
   "execution_count": 20,
   "metadata": {},
   "outputs": [
    {
     "name": "stdout",
     "output_type": "stream",
     "text": [
      "data1 data2 data3 \n",
      "1.2     2.3     1.3\n",
      "0.1     1.5     2.5\n",
      "3.1     3.2     3.3\n"
     ]
    }
   ],
   "source": [
    "! type c:\\work\\ex3.txt"
   ]
  },
  {
   "cell_type": "code",
   "execution_count": 21,
   "metadata": {},
   "outputs": [
    {
     "data": {
      "text/html": [
       "<div>\n",
       "<style scoped>\n",
       "    .dataframe tbody tr th:only-of-type {\n",
       "        vertical-align: middle;\n",
       "    }\n",
       "\n",
       "    .dataframe tbody tr th {\n",
       "        vertical-align: top;\n",
       "    }\n",
       "\n",
       "    .dataframe thead th {\n",
       "        text-align: right;\n",
       "    }\n",
       "</style>\n",
       "<table border=\"1\" class=\"dataframe\">\n",
       "  <thead>\n",
       "    <tr style=\"text-align: right;\">\n",
       "      <th></th>\n",
       "      <th>data1</th>\n",
       "      <th>data2</th>\n",
       "      <th>data3</th>\n",
       "    </tr>\n",
       "  </thead>\n",
       "  <tbody>\n",
       "    <tr>\n",
       "      <th>0</th>\n",
       "      <td>1.2</td>\n",
       "      <td>2.3</td>\n",
       "      <td>1.3</td>\n",
       "    </tr>\n",
       "    <tr>\n",
       "      <th>1</th>\n",
       "      <td>0.1</td>\n",
       "      <td>1.5</td>\n",
       "      <td>2.5</td>\n",
       "    </tr>\n",
       "    <tr>\n",
       "      <th>2</th>\n",
       "      <td>3.1</td>\n",
       "      <td>3.2</td>\n",
       "      <td>3.3</td>\n",
       "    </tr>\n",
       "  </tbody>\n",
       "</table>\n",
       "</div>"
      ],
      "text/plain": [
       "   data1  data2  data3\n",
       "0    1.2    2.3    1.3\n",
       "1    0.1    1.5    2.5\n",
       "2    3.1    3.2    3.3"
      ]
     },
     "execution_count": 21,
     "metadata": {},
     "output_type": "execute_result"
    }
   ],
   "source": [
    "result = pd.read_table('c:\\\\work\\\\ex3.txt', sep='\\s+')\n",
    "result"
   ]
  },
  {
   "cell_type": "code",
   "execution_count": 22,
   "metadata": {},
   "outputs": [
    {
     "name": "stdout",
     "output_type": "stream",
     "text": [
      "PK\u0003\u0004\u0014\u0000\u0006\u0000\u0000\u0000!\u0000��X�y\u0001\u0000\u0000\u0014\u0006\u0000\u0000\u0013\u0002[Content_Types].xml �\u0004\u0002(�\u0000\u0002\u0000\u0000\u0000\u0000\u0000\u0000\u0000\u0000\u0000\u0000\u0000\u0000\u0000\u0000\u0000\u0000\u0000\u0000\u0000\u0000\u0000\u0000\u0000\u0000\u0000\u0000\u0000\u0000\u0000\u0000\u0000\u0000\u0000\u0000\u0000\u0000\u0000\u0000\u0000\u0000\u0000\u0000\u0000\u0000\u0000\u0000\u0000\u0000\u0000\u0000\u0000\u0000\u0000\u0000\u0000\u0000\u0000\u0000\u0000\u0000\u0000\u0000\u0000\u0000\u0000\u0000\u0000\u0000\u0000\u0000\u0000\u0000\u0000\u0000\u0000\u0000\u0000\u0000\u0000\u0000\u0000\u0000\u0000\u0000\u0000\u0000\u0000\u0000\u0000\u0000\u0000\u0000\u0000\u0000\u0000\u0000\u0000\u0000\u0000\u0000\u0000\u0000\u0000\u0000\u0000\u0000\u0000\u0000\u0000\u0000\u0000\u0000\u0000\u0000\u0000\u0000\u0000\u0000\u0000\u0000\u0000\u0000\u0000\u0000\u0000\u0000\u0000\u0000\u0000\u0000\u0000\u0000\u0000\u0000\u0000\u0000\u0000\u0000\u0000\u0000\u0000\u0000\u0000\u0000\u0000\u0000\u0000\u0000\u0000\u0000\u0000\u0000\u0000\u0000\u0000\u0000\u0000\u0000\u0000\u0000\u0000\u0000\u0000\u0000\u0000\u0000\u0000\u0000\u0000\u0000\u0000\u0000\u0000\u0000\u0000\u0000\u0000\u0000\u0000\u0000\u0000\u0000\u0000\u0000\u0000\u0000\u0000\u0000\u0000\u0000\u0000\u0000\u0000\u0000\u0000\u0000\u0000\u0000\u0000\u0000\u0000\u0000\u0000\u0000\u0000\u0000\u0000\u0000\u0000\u0000\u0000\u0000\u0000\u0000\u0000\u0000\u0000\u0000\u0000\u0000\u0000\u0000\u0000\u0000\u0000\u0000\u0000\u0000\u0000\u0000\u0000\u0000\u0000\u0000\u0000\u0000\u0000\u0000\u0000\u0000\u0000\u0000\u0000\u0000\u0000\u0000\u0000\u0000\u0000\u0000\u0000\u0000\u0000\u0000\u0000\u0000\u0000\u0000\u0000\u0000\u0000\u0000\u0000\u0000\u0000\u0000\u0000\u0000\u0000\u0000\u0000\u0000\u0000\u0000\u0000\u0000\u0000\u0000\u0000\u0000\u0000\u0000\u0000\u0000\u0000\u0000\u0000\u0000\u0000\u0000\u0000\u0000\u0000\u0000\u0000\u0000\u0000\u0000\u0000\u0000\u0000\u0000\u0000\u0000\u0000\u0000\u0000\u0000\u0000\u0000\u0000\u0000\u0000\u0000\u0000\u0000\u0000\u0000\u0000\u0000\u0000\u0000\u0000\u0000\u0000\u0000\u0000\u0000\u0000\u0000\u0000\u0000\u0000\u0000\u0000\u0000\u0000\u0000\u0000\u0000\u0000\u0000\u0000\u0000\u0000\u0000\u0000\u0000\u0000\u0000\u0000\u0000\u0000\u0000\u0000\u0000\u0000\u0000\u0000\u0000\u0000\u0000\u0000\u0000\u0000\u0000\u0000\u0000\u0000\u0000\u0000\u0000\u0000\u0000\u0000\u0000\u0000\u0000\u0000\u0000\u0000\u0000\u0000\u0000\u0000\u0000\u0000\u0000\u0000\u0000\u0000\u0000\u0000\u0000\u0000\u0000\u0000\u0000\u0000\u0000\u0000\u0000\u0000\u0000\u0000\u0000\u0000\u0000\u0000\u0000\u0000\u0000\u0000\u0000\u0000\u0000\u0000\u0000\u0000\u0000\u0000\u0000\u0000\u0000\u0000\u0000\u0000\u0000\u0000\u0000\u0000\u0000\u0000\u0000\u0000\u0000\u0000\u0000\u0000\u0000\u0000\u0000\u0000\u0000\u0000\u0000\u0000\u0000\u0000\u0000\u0000\u0000\u0000\u0000\u0000\u0000\u0000\u0000\u0000\u0000\u0000\u0000\u0000\u0000\u0000\u0000\u0000\u0000\u0000\u0000\u0000\u0000\u0000\u0000\u0000\u0000\u0000\u0000\u0000\u0000\u0000\u0000\u0000\u0000\u0000\u0000\u0000\u0000\u0000\u0000\u0000\u0000\u0000\u0000\u0000\u0000\u0000\u0000\u0000\u0000\u0000\u0000\u0000\u0000\u0000\u0000\u0000\u0000\u0000\u0000\u0000\u0000�T�n�0\u0010�W�?D�V�@��\u001c�\u001c[$�\u0007�xB,\u0012��\f\u0014��\u0013���X�@j/�b{�2\u0013��`YW�\u0002\u0002\u001ag3�I�\"\u0001�;m�4\u0013��֣H��ժr\u00162�\u0002\u0014���Mo��\tW[�DI䟤ļ�Za�<X�)\\�\u0015�g�J�򙚂��\u000f2w��R�\u001a\f��@��\u0015%�K^^+�\u0018+�����*\u0013����X�\\X������]>�\u0019:E\u001f@i,\u0001��R\u001f\f3�\u0011\u0010�1\u0014r/g�\n",
      "�#ݸJ�2\n",
      "��x�c�\u0007\u0018��î6u\u001f<�`4$C\u0015�]��].+���l��,=\u000ernkb��Z\u0019��}�?\u001eF\u0019_�+\u000bi�E�3ut����?�A|�@���#�0'\u0006���\u0000��\u001bF�S̥\n",
      "�Gķyzu\u0001?�����\u0019\u0006�S,��]�FFS��\f\u0004�\f�Bc���1r\u0004^�vh2V���-c���\u0001\u0000\u0000��\u0003\u0000PK\u0003\u0004\u0014\u0000\u0006\u0000\u0000\u0000!\u0000�U0#�\u0000\u0000\u0000L\u0002\u0000\u0000\u000b\u0002_rels/.rels �\u0004\u0002(�\u0000\u0002\u0000\u0000\u0000\u0000\u0000\u0000\u0000\u0000\u0000\u0000\u0000\u0000\u0000\u0000\u0000\u0000\u0000\u0000\u0000\u0000\u0000\u0000\u0000\u0000\u0000\u0000\u0000\u0000\u0000\u0000\u0000\u0000\u0000\u0000\u0000\u0000\u0000\u0000\u0000\u0000\u0000\u0000\u0000\u0000\u0000\u0000\u0000\u0000\u0000\u0000\u0000\u0000\u0000\u0000\u0000\u0000\u0000\u0000\u0000\u0000\u0000\u0000\u0000\u0000\u0000\u0000\u0000\u0000\u0000\u0000\u0000\u0000\u0000\u0000\u0000\u0000\u0000\u0000\u0000\u0000\u0000\u0000\u0000\u0000\u0000\u0000\u0000\u0000\u0000\u0000\u0000\u0000\u0000\u0000\u0000\u0000\u0000\u0000\u0000\u0000\u0000\u0000\u0000\u0000\u0000\u0000\u0000\u0000\u0000\u0000\u0000\u0000\u0000\u0000\u0000\u0000\u0000\u0000\u0000\u0000\u0000\u0000\u0000\u0000\u0000\u0000\u0000\u0000\u0000\u0000\u0000\u0000\u0000\u0000\u0000\u0000\u0000\u0000\u0000\u0000\u0000\u0000\u0000\u0000\u0000\u0000\u0000\u0000\u0000\u0000\u0000\u0000\u0000\u0000\u0000\u0000\u0000\u0000\u0000\u0000\u0000\u0000\u0000\u0000\u0000\u0000\u0000\u0000\u0000\u0000\u0000\u0000\u0000\u0000\u0000\u0000\u0000\u0000\u0000\u0000\u0000\u0000\u0000\u0000\u0000\u0000\u0000\u0000\u0000\u0000\u0000\u0000\u0000\u0000\u0000\u0000\u0000\u0000\u0000\u0000\u0000\u0000\u0000\u0000\u0000\u0000\u0000\u0000\u0000\u0000\u0000\u0000\u0000\u0000\u0000\u0000\u0000\u0000\u0000\u0000\u0000\u0000\u0000\u0000\u0000\u0000\u0000\u0000\u0000\u0000\u0000\u0000\u0000\u0000\u0000\u0000\u0000\u0000\u0000\u0000\u0000\u0000\u0000\u0000\u0000\u0000\u0000\u0000\u0000\u0000\u0000\u0000\u0000\u0000\u0000\u0000\u0000\u0000\u0000\u0000\u0000\u0000\u0000\u0000\u0000\u0000\u0000\u0000\u0000\u0000\u0000\u0000\u0000\u0000\u0000\u0000\u0000\u0000\u0000\u0000\u0000\u0000\u0000\u0000\u0000\u0000\u0000\u0000\u0000\u0000\u0000\u0000\u0000\u0000\u0000\u0000\u0000\u0000\u0000\u0000\u0000\u0000\u0000\u0000\u0000\u0000\u0000\u0000\u0000\u0000\u0000\u0000\u0000\u0000\u0000\u0000\u0000\u0000\u0000\u0000\u0000\u0000\u0000\u0000\u0000\u0000\u0000\u0000\u0000\u0000\u0000\u0000\u0000\u0000\u0000\u0000\u0000\u0000\u0000\u0000\u0000\u0000\u0000\u0000\u0000\u0000\u0000\u0000\u0000\u0000\u0000\u0000\u0000\u0000\u0000\u0000\u0000\u0000\u0000\u0000\u0000\u0000\u0000\u0000\u0000\u0000\u0000\u0000\u0000\u0000\u0000\u0000\u0000\u0000\u0000\u0000\u0000\u0000\u0000\u0000\u0000\u0000\u0000\u0000\u0000\u0000\u0000\u0000\u0000\u0000\u0000\u0000\u0000\u0000\u0000\u0000\u0000\u0000\u0000\u0000\u0000\u0000\u0000\u0000\u0000\u0000\u0000\u0000\u0000\u0000\u0000\u0000\u0000\u0000\u0000\u0000\u0000\u0000\u0000\u0000\u0000\u0000\u0000\u0000\u0000\u0000\u0000\u0000\u0000\u0000\u0000\u0000\u0000\u0000\u0000\u0000\u0000\u0000\u0000\u0000\u0000\u0000\u0000\u0000\u0000\u0000\u0000\u0000\u0000\u0000\u0000\u0000\u0000\u0000\u0000\u0000\u0000\u0000\u0000\u0000\u0000\u0000\u0000\u0000\u0000\u0000\u0000\u0000\u0000\u0000\u0000\u0000\u0000\u0000\u0000\u0000\u0000\u0000\u0000\u0000\u0000\u0000\u0000\u0000\u0000\u0000\u0000\u0000\u0000\u0000\u0000\u0000\u0000\u0000\u0000\u0000\u0000\u0000\u0000\u0000\u0000\u0000\u0000\u0000\u0000\u0000\u0000\u0000\u0000\u0000\u0000\u0000��MO�0\f��H�����ݐ\u0010BKwAH�!T~�I�\u000f���$\u001bݿ'\u001c\u0010T\u001a�\u0003G�~����<���!��4��\u0012\u0014;#�w����qu\u0007*&r�Fq���\u0011v�����GJy(v��*����K��#F��D�\u0010�.W\u001a\t\u0013�\u001c�\u0016=��Z�MY�b��\u0001�BS�����7��ϛז��\n",
      "?�9L�ҙ\u0015�sbgٮ|�l!��\u001aUSh9i�b�r:\"y_dl��D��\u0013�|-N��R\"4\u0012�2�G�%��Z�4�˝y�7\të��ɂ�\u001f��\u0001\u0000\u0000��\u0003\u0000PK\u0003\u0004\u0014\u0000\u0006\u0000\u0000\u0000!\u0000�\t�(\u0002\u0001\u0000\u0000�\u0003\u0000\u0000\u001a\u0001xl/_rels/workbook.xml.rels �\u0004\u0001(�\u0000\u0001\u0000\u0000\u0000\u0000\u0000\u0000\u0000\u0000\u0000\u0000\u0000\u0000\u0000\u0000\u0000\u0000\u0000\u0000\u0000\u0000\u0000\u0000\u0000\u0000\u0000\u0000\u0000\u0000\u0000\u0000\u0000\u0000\u0000\u0000\u0000\u0000\u0000\u0000\u0000\u0000\u0000\u0000\u0000\u0000\u0000\u0000\u0000\u0000\u0000\u0000\u0000\u0000\u0000\u0000\u0000\u0000\u0000\u0000\u0000\u0000\u0000\u0000\u0000\u0000\u0000\u0000\u0000\u0000\u0000\u0000\u0000\u0000\u0000\u0000\u0000\u0000\u0000\u0000\u0000\u0000\u0000\u0000\u0000\u0000\u0000\u0000\u0000\u0000\u0000\u0000\u0000\u0000\u0000\u0000\u0000\u0000\u0000\u0000\u0000\u0000\u0000\u0000\u0000\u0000\u0000\u0000\u0000\u0000\u0000\u0000\u0000\u0000\u0000\u0000\u0000\u0000\u0000\u0000\u0000\u0000\u0000\u0000\u0000\u0000\u0000\u0000\u0000\u0000\u0000\u0000\u0000\u0000\u0000\u0000\u0000\u0000\u0000\u0000\u0000\u0000\u0000\u0000\u0000\u0000\u0000\u0000\u0000\u0000\u0000\u0000\u0000\u0000\u0000\u0000\u0000\u0000\u0000\u0000\u0000\u0000\u0000\u0000\u0000\u0000\u0000\u0000\u0000\u0000\u0000\u0000\u0000\u0000\u0000\u0000\u0000\u0000\u0000\u0000\u0000\u0000\u0000\u0000\u0000\u0000\u0000\u0000\u0000\u0000\u0000\u0000\u0000\u0000\u0000\u0000\u0000\u0000\u0000\u0000\u0000\u0000\u0000\u0000\u0000\u0000\u0000\u0000\u0000\u0000\u0000\u0000\u0000\u0000\u0000\u0000\u0000\u0000\u0000\u0000\u0000\u0000\u0000\u0000\u0000\u0000\u0000\u0000\u0000\u0000\u0000\u0000\u0000\u0000\u0000\u0000\u0000\u0000\u0000\u0000\u0000\u0000\u0000\u0000\u0000\u0000\u0000\u0000\u0000\u0000\u0000\u0000\u0000\u0000\u0000\u0000\u0000\u0000���j�0\f���}q�ne�:��A�[�\u0000&Q���6��'o?�C�@�.�\u0017�$�}?Ч����\u0017\u0006j�U�%���Z�(�8�><� ֶҝ��`@�Cq��Ns�D��$��%\u0005��襤�`�)q\u001em��.��c\u0019\u001a�uy�\n",
      "�<M�2�Հb�)���p�6 N����k��nK|q�g���X�o\u0017�d\u00109��� +�Z$��&�� ���7�ɗ`�\u001b�dK0�5a���;��B��j�^�yZ\u0015��.�~\n",
      "\f������\u001cO\t/�c)�wڇ��b�\u000b\u0000\u0000��\u0003\u0000PK\u0003\u0004\u0014\u0000\u0006\u0000\u0000\u0000!\u0000�|\u000e��\u0002\u0000\u0000b\u0006\u0000\u0000\u000f\u0000\u0000\u0000xl/workbook.xml�UQO�0\u0010~���`�=$N۴����\u0001��6���\u0005\t���X8v�8��wNH\n",
      "�\u0007\u0006Q{�}����}vfǻB�;�+�d�ɑ�\u0011��ʸ�D��ũ3��2TfT(�\"|�*|<��e�U�v��-\u0002\u0000YE87�\f]�JsV��H�L�g�tA\n",
      "L�ƭJ�hV匙B���\u0005nA��-B�߃��k��D�u��iA4\u0013�\u0000�*�eա\u0015�{�\n",
      "�o��IUQ\u0002Ċ\u000bn�\u001bP��4\\n��t% �\u001d\u0019���_\u0000���u�U�S�*�6G\u0000���\u000f�'�Kȋ\u0012�\u000ek�>����\u001d�=�Y�����\u001e+؃\u0011��h\u0004��h%��}\u0010m�s��|��]��E�,��vJ`$heN2nX\u0016�1LՖ�\u0017�\u0018��Vs\u0001^2%~��y/�3�2���0\u0017 �\u000e\u001e\u0002���F�0ba��԰��\u0006t���g57�\u0001�\"W�p�����fp�@_�+X��tU�Q��Z/�k��\t�\u001e��?�HS[\t�'ю_'\u000b\\t����h\u0004�e�\u0003J~N�\u0001����|.m��\u001b��p����a���ŉ7qN�d�\f''�3����\u0005�i\u001c'�8��G�H\u0007a�hm�\u0006[\u000f�\u001b��t�y�\u0017�<�syhv\u0005���+��\u001em��*��l[��`�hw�e��\u0011\u001eN ��n\u0016�d�x�xf���xԭ}g|�\u0003]�\u001a�k�Ҋ�\u000b:���t\n",
      "Oc^�q��inL�ռ�lT~noQ(F�֔\u0019T\u001d�=�2#6��h���h\u0018����уg�0�\u0007�D:J)\u0015)�\u0018�j{=\u001c�i\u0013�}\u001e��\u0000\u0000\u0000��\u0003\u0000PK\u0003\u0004\u0014\u0000\u0006\u0000\u0000\u0000!\u0000���PQ\u0007\u0000\u0000\u001e\"\u0000\u0000\u0013\u0000\u0000\u0000xl/theme/theme1.xml�Z[o\u001bE\u0014~G�?������i\u001cթb�nhsS�\u0016�q�\u001e�N2���\u0019'�\u001bj��\u0004BB\u0014�\u000b\u0012o}@@�V���@\u0011\u0014Կ�����\u0013���\u0006qK*5{��e�mΞ��\u001b�\u0013�\u000e������|�\u0014 ���GӨ\u001e�鴯,\u0005H*��0�)�\u0007C\"�\u001b+o�u\u001d/��$\u0004\u0001}*�q=��ʖ������3�»>\u0017\tVp+����G�7as���\\�i\u001a�\u0014'�v�ߧ!A������\u001f\u0004+#�-\u0006\"R%����=͛8$\u0006�;(k�\u001c�&\u0013�\u0010�z\u0000�z��C�\u00001,\u0015��\u0007%�\u0013̭\\���9\u0011S3h\u000btm���\u0004��y#SDݱ�r�R��6�o\u0000LM�Z�V�U\u001e�3\u0000\u001c��R�K�g��Tn�x\u0016@�r�w�T-U\\|��εF�Q��X�\u0006d/+S���beu��\u001b��W���j����\n",
      "��\u0017���k�Ŋ�7����`\n",
      "�\u001d�n��ǐ>g�^�\u0012��J9|��h\u0018G�\u0016�穚\u0015k\t��\n",
      "\u0000\n",
      "dX�\u0014�aF�8�0n�+(\u000eP�S.�Ai��.-���_�\\U�x�Lp��>\n",
      "��#�\t�����\u0007��kP��z�ͫ�Oѫ�O�\u001f<;~���Ç�\u000f���\u001c�u�FE�?����ЯO�z��3?^\u0016�?}��?|�\u0007B~M����'??{�⋏���\u0007�*p�ЄH�E��.O`m�0��+�Gщ1u(p\f�=�[*v�[C�|�\u0006q�wW@i�\u0001o\u000e�\u001d]�b1P�#�v�8�M�Y�\u000b�\u0001nkY\u0005\u000bw\u0006i�\u0017.\u0006E�.Ƈ>�M�:�m\n",
      "2��\u0010�Ӷo��Qs��TሤD!��\u001f\u0010�!�G�c�M\u001a\n",
      ".y_�{\u001450���C�N M��i\u0002~\u0019�\u0014\u0004W;�ټ�\u001a��V�F\u000e]$$\u0004f\u001e�;�9f��\u0007\n",
      "'>�\u001d����7��}J�\n",
      "EXĵ�\u0002OG�q��\u0011)}4�\u0002�[p�m\f����M6L\\�P���s\u0003s^D��f��̫3M�\"�\u001dy\u0000!��\u000eW>�&w3D߃\u001fp:��w)q�}z!�C#G�I��7\u0003���M��|\u001c�>&�*�*\u0012���B\n",
      "�EGc\u00109���G���G�\u0006�\u001c�O��\u0015CUY'�����X��)�\u0004�ff:M7�tBv�D|�>��\u0013�g��\u0004�Y����N����-��,<(\u0002�(4}\u0010/^�lK���,�;1vv-}/��:\u0014��Βc�����K�!禁�~f�t0s\u0004L\u0002��)��[ q�?!���!\u001bx��n�N�\u0000ݐ��$4}]��(8�D�S��xl�v��UY�O�9�p���f\n",
      "\u000f�\u001d\u0002\u001b�t�ln.���?�����˖沥�li|\u001faIK3�b���Lx̼'�9��S��Ԑ�\n",
      "i&>\u0012>lzmxhFQf\u001e9\u001e�e1\\���\u0000\u0007\u0017\tlh���]��\u0018g0\u001c*��e$s֑D\u0019�032��\u001c���m\u0006�\u0014FBf�Y��/k?��&���\u000b�)瘍�*2�ԑ�\u0005���\u0016������j��ܥ��j�cp�6^�6�����ñ5�\u0019�w6Xy\u0011��Zw��A{��v�>\u001a�E��P\u0017�\u0018�\ts\u001f�uO��l�4�����u�`�\u0013�S|T�V�l�@�Y�T\u0014W�!n�7��hL;���\u0013���br�\u0014\u001dՃZu�\u001a�\u0010g��\u000f\u0003Z�L2���;�Ep�\u0011*a���d6�:�f�\u001f�e��[�O-ة\u0003��j\n",
      "�؆�y��\u0000K�8��?_\u0005�^�\u0002<��lZ,,A0�mZ�\u001d]ג~������\u00133O7����\"b/�\u001d�.\u001b�]\f�ס\n",
      "��Q\t�tS\u0011�\n",
      "\u001c\n",
      "ik�WnqΓ�x\u0014cp�9fY��r�St��\u0016n\n",
      "�X\u0007sg�5��ڼ��ŝ)&�/h)�0��-E�'0�^�i\u000f�p()0ҙR\u000f�P1�*��4l\u000b8�1�\u0003�\u0005\u000e\u0016�5\u0004\u0015\u001c��߂\u001c��6�,\u000f��0�T�4B��~�bA�\u000e�%\u0013}�0+�{�e�rF�Ø�+3�v�\u001c\u0012��5pQ��\u0001�!�M5�ˀ���?�>Ϡn���j�c�����dW��g�E*��_�\n",
      "j޽��T�r���[��XS+���y����\u0002�%\u0015�DH�F����;|\u0017j+�Ss�^!��+��@�@��؅��>���Y��+�n/����ռ�\u001d˅,�3��9�=n�\\qN.���<��s\u000b;�.v�\u001eSCҞLQ�\u001e�>d�c�\u001fh\u0014���w���kpX=`J�c��p\u001c\u0005_\u0019��\u001b��:א��\u0001\u0000\u0000��\u0003\u0000PK\u0003\u0004\u0014\u0000\u0006\u0000\u0000\u0000!\u0000;m2K�\u0000\u0000\u0000B\u0001\u0000\u0000#\u0000\u0000\u0000xl/worksheets/_rels/sheet1.xml.rels�����0\u0014E�\u0003�Cx{�օ\fCS7\"�U�\u0003b��\u0006ۗ��\u0014�{�\u001ce���p��6��<�\u001bf\u000e�,Ժ\u0002��c\u0017h��{�-�A�8��\u0014\t-<�a�.��\u0003NNJ�ǐX\u0015\u000b��Q$�\u0018�~�ٱ�\t��>��I�y0���\u001bЬ�jm�_\u0007�/N��,�}W�:=RY��}\u001f<n���H�τI9�`>�H9�E��bA�w��k}\u000e\u0004�m����\t\u0000\u0000��\u0003\u0000PK\u0003\u0004\u0014\u0000\u0006\u0000\u0000\u0000!\u0000���e�\u0001\u0000\u0000�\u0003\u0000\u0000\u0018\u0000\u0000\u0000xl/worksheets/sheet2.xml���n� \u0010��+�; �1vҦ�\u0015�ZmTm\u000f�V�v�\u0004�m\u0014�  M�U�}\u0007�q+�\u0012ղ1\u0018��\u0019���~oz�\n",
      ">h�\u0015/��3�\n",
      "kmۊ�<?Ln9\u000bQ�Z�h���~���b�~\u0013:�Ȉ`CŻ\u0018])DP\u001d\u0018\u00192t`i�Aod��oEp\u001ed=l2����\\\u0018�-?\u0012J\t\u0003�F+X��\u001a����H�N�p�\u0019u\t�H�ٺ�B�ֽ��\u0001ʙQ�ck��uOy�+����=�gv�\u0019��)\u0019�<\u0006lbFdq��<�;q'�\u001aI��_�)���W�\u000e�\u00035�ZH��Ț~�f_��GX�]�������kB�\"5�$/R��z��E��SV�CS�\u001f\u0005\u0017��`��\u001av�S�%/�\u00117i�4�T��}\u0018��۳\u001a\u001a���\u001f��\u0002�v��?Ϯ)�t�e}XAP�.\u0002e�Qu%�$��\u000e�V�i��$Wp\u0016\u000f�Lb�'��bJ��l�I�V��zh\u0006�\n",
      "g���gԏ��\n",
      "��1F4�QG�\u0002d�\u0014\u0002)a<\n",
      "Rjc�-�\u0003\u0000\u0000��\u0003\u0000PK\u0003\u0004\u0014\u0000\u0006\u0000\u0000\u0000!\u0000O�ɒ�\u0001\u0000\u0000�\u0003\u0000\u0000\u0018\u0000\u0000\u0000xl/worksheets/sheet3.xml��]o� \u0014��'�? �c�MW+NU-�֋IӴ���c\u001b�p\u0010�&Ѵ���S��r\u0013��\u0007\u0018x�s�=�����+���V��r��*��m+�����\u000bg!J[�\u001e-T�\u0004�?�?Z\u001d��B\u0007\u0010\u0019\u0011l�x\u0017�+�\u0003#C�\u000e,�4荌��΃��E�\u0017�<_\n",
      "#��gB�a`�h\u0005\u001bT{\u00036�!\u001ez\u0019)��i\u0017F�Q�������)4�\u0010[��x\u001a��\u0019U>�\u0016���������\u001d=�sz\u0016����B�h�1`\u00133\"�s̗�ߋ{!�D���*Lq#<��t����B*n'��\u001d�� l9��v�r����߮\u0019}���g9yah�c�zUk:�\u0015��T���b�\u001a���\u0010�k���-�.\n",
      "<�F�����O�\u0017xVC#�}���o��.���-Ř\u000e��O��E�l1�nd��u\u001d�AԊ0\n",
      "ژ�\n",
      "��ɑI,~E�VLi��-|���6�\u001e�\u0001xǙ?k�\u0019�#�$sG�[�\u0011���T�,�B %�c'�6\u0015��\u001f\u0000\u0000\u0000��\u0003\u0000PK\u0003\u0004\u0014\u0000\u0006\u0000\u0000\u0000!\u0000�����\u0003\u0000\u0000�\f\u0000\u0000\u0018\u0000\u0000\u0000xl/worksheets/sheet1.xml�Wێ�6\f}/�0�>�e�8�M�A�@���Y��D\u0018�r%%�i�/%9�(��w\u0007�8&��C���է�\"�.TH��\u0018�Q�<Z�<c�1F����4G�T��H�K\u001a�\u000f*ѧ��?��\\��\u0013��\u0003�R��T��}��hA�W�\u0004́��(�\u0015G_V���,*r?\f��_\u0010V\"��\u0014C0���R���\\�RY\u0010As���<�J�Њ\\A�۹zJyQ\u0001Ğ�L}\u0018P�\u0015���XrA�9����$��\u0005|B��nn���S�R�%?�\u0011 ���}�\u000bᓴA��\u0010\f\u001e��^���\u0016*�>Jx�`�-X��`�\u0006L�K,�,��?A��\u0004W������\u0017�W\u0019�\u001d�Qy�\u001eb�\u0019/w\u0018#�2\u0005�\u0007�W���)��9M\u0015\u0005'\u0018y�>���i�\u0017\u0010\u0005\u0000)���$�b\u0017��y\u001e#\n",
      "�ɿ��څ��X���7Ϧ�\u0011^F\u000f䜫_��'ʎ'\u0005���\tĪ�e�}$T�P��|\u0014i�)�\u0001\u0003���A����Ȼ�^Y�N1Z��{*�3�`�K�R��O�5�7��Ҭ�k�\u001aG��\fn��hZ/��mQ��>}K�$%!��W�_=�W�������GqC���3�BL\u0012�����Ԧ�r�SN��mO9�+��r�W�z�y��~\u0013\u0003\u0014��\u0018���!pB�갣܆&��\t;�b\u001cF\u000e��|���(C;\n",
      "�\f�m�\u001d�=\u001dv�\u001e\u0019�c'�Ċ������\u0011e�������\u001c:��:�R\u001e�,;U�X1��������˅\u0001\u0005=�2�6����tu؉g;���,[1�Zj��v�|��2��`�`�Pv۱��N<۩-\f���\u0018c�\u0007k�������\u001b(�mC���MWw��Ͳ��b\u001c:u���Ń��\u0013�Ї\u001e�6�\u001d���2v�%�b\u001c�\u000f�Z>m}����\u0006�`�Pv�r������P\u000e�$[1v\u001f$�Z\u001e>�2�It��\u0002�\n",
      "��9ozf���G�ۀ��'R�f��ߧ�V��\u0002��\f\u0013����\u0001���F#}�7�rM�*s�ޕH����m�\u001b{�W'\u0018�\u0015Ka�9�R�I���`\u0002.������\u001ef*r�?\u0013qd��rz0S\u000e4���P0�\n",
      "�+=��d�\u0015\f2��\u0013�\u0007P\u0018\n",
      "�\\\u0004����Ը�T�+�\"\u0015\u0015��op\u000e��\u0005�Y�\f�1��P�0���\u000b\u0010&yR1=�yb��L�i�o^S��\u0001\u0000\u0000��\u0003\u0000PK\u0003\u0004\u0014\u0000\u0006\u0000\u0000\u0000!\u0000\u0006�M�*\u0001\u0000\u0000f\u0005\u0000\u0000\u0014\u0000\u0000\u0000xl/sharedStrings.xml�ԿN�0\u0010\u0006�\u001d�w�n�N\u0002--rܡ�\u0012\u0003\u0012\u0003<@��M��\u001cb\u0007ѵ*R\u0006\u0006\u0016�. !!���g��Hx\u0007�@<\u000071����wˉ�y��3U�L~�\u0003�0�I��\u0010N��[C`�F�D�F\u0015�B\u0019\u0018��\n",
      "a�e΢\t!�����ĩ*\"�ӥB�2�U\u0011Yw��ܔ��\u0012�*e��\u0007�7�E�!�X�h��j�Nk5���G �ɤ�r��|��\u0014e�\u001a�,>��L�=H\\_`vQ�Z�'\u001a�\u0000.\u0005���> �m��!�>�\u000f�~��D?�yߣ�C\n",
      "��ϟ��c��P�w���eEIh���敒�qy�>ܿ�5��\u001di�f��^�-��=)?\u0001\u0000\u0000��\u0003\u0000PK\u0003\u0004\u0014\u0000\u0006\u0000\u0000\u0000!\u0000k�ˎ�\u0002\u0000\u0000\u001f\u0007\u0000\u0000\n",
      "\u0000\u0000\u0000xl/styles.xml�U�j�0\u0014�\u001f�\u001d��]�4��`�,M\n",
      "�\u000e\u0006�`��-'��\t��9\u001b��Ba��`\u0017�=��j��aG���\u0014�Ӳ�X:G�����$>�\u0005Gk�+�d��\u0003\u000f#*sU09O��\u0019aT\u0019\"\u000b�\t��\n",
      "\u001f�O�ĕ�pz��� ��U�\u0017�,Ǯ[�\u000b*Hu��T��TZ\u0010\u0003[=w������%���� L�\u0016a,�\u0001\u0011D_��N�Ē\u00186c��M����ǧs�4�q�Z�\u0003���\u001f�\u0000�zK�X��kU��\u001c\u0000��ʒ����ȍ\\��\u0000�aH~�z���k�@�������4.�4\u0015��J�\u0004\u0007 Ԧ`|)�\u001b�Y\u0017T�;���[�&\u001c,>v�8W\\id�t���\"��퉛o׷��Џ�_n>|��K\"\u0018ߴΠ�� ��Nh\u0001��ښ>�\u0010\u0004��X�k\u0015�:�\n",
      "F��?�\u001a�\n",
      "h\u0019����4�>2T�\f��[_l��\u0007\t-ߪ\u0006�\u001fO�5��Aػ�6�i<S��'�-��AkJcNK\u0003�k6_دQK��)c�\n",
      "Ӹ`d�$�6s�\u001b�\u0002��)���\u0019�.�`�%�+�\tsZ$\u0018\u001e���v\t�t�\u0016�ݤ1�l.\u0005�PC�\n",
      "�mg䰥m��\u0012\u0014��Z�G\u0013���W\u0005��\u000b�N�;��vS�^��z\u0005Ϡ#A�\u0015�ɖ�&uw\u00030�z�F�V��9�$x�\u0002�,hIV�\\�\tޯ_Ђ�D�;����i \u0012�_��j�C�AksV���/Zi��w'�g��$\u000b��7\u00199�C\u001a:Q8�:��x2�f�\u0017x��{��\u0011��\u0019�i\fSb\\q�x�\u000b�\u000b�|oKpo��o�\u001cd��G��{\u001e���\u001dz�3\u0018��3\u001a\u001e�N\u0016��t8���Y��\u001e>p�y���ӊ\u000fǆ\tʙ��j[��\u0015�\u0004��\u0004�n+�����_\u0000\u0000\u0000��\u0003\u0000PK\u0003\u0004\u0014\u0000\u0006\u0000\u0000\u0000!\u0000�HH/�\u0001\u0000\u00006\u0003\u0000\u0000\u0010\u0001docProps/app.xml �\u0004\u0001(�\u0000\u0001\u0000\u0000\u0000\u0000\u0000\u0000\u0000\u0000\u0000\u0000\u0000\u0000\u0000\u0000\u0000\u0000\u0000\u0000\u0000\u0000\u0000\u0000\u0000\u0000\u0000\u0000\u0000\u0000\u0000\u0000\u0000\u0000\u0000\u0000\u0000\u0000\u0000\u0000\u0000\u0000\u0000\u0000\u0000\u0000\u0000\u0000\u0000\u0000\u0000\u0000\u0000\u0000\u0000\u0000\u0000\u0000\u0000\u0000\u0000\u0000\u0000\u0000\u0000\u0000\u0000\u0000\u0000\u0000\u0000\u0000\u0000\u0000\u0000\u0000\u0000\u0000\u0000\u0000\u0000\u0000\u0000\u0000\u0000\u0000\u0000\u0000\u0000\u0000\u0000\u0000\u0000\u0000\u0000\u0000\u0000\u0000\u0000\u0000\u0000\u0000\u0000\u0000\u0000\u0000\u0000\u0000\u0000\u0000\u0000\u0000\u0000\u0000\u0000\u0000\u0000\u0000\u0000\u0000\u0000\u0000\u0000\u0000\u0000\u0000\u0000\u0000\u0000\u0000\u0000\u0000\u0000\u0000\u0000\u0000\u0000\u0000\u0000\u0000\u0000\u0000\u0000\u0000\u0000\u0000\u0000\u0000\u0000\u0000\u0000\u0000\u0000\u0000\u0000\u0000\u0000\u0000\u0000\u0000\u0000\u0000\u0000\u0000\u0000\u0000\u0000\u0000\u0000\u0000\u0000\u0000\u0000\u0000\u0000\u0000\u0000\u0000\u0000\u0000\u0000\u0000\u0000\u0000\u0000\u0000\u0000\u0000\u0000\u0000\u0000\u0000\u0000\u0000\u0000\u0000\u0000\u0000\u0000\u0000\u0000\u0000\u0000\u0000\u0000\u0000\u0000\u0000\u0000\u0000\u0000\u0000\u0000\u0000\u0000\u0000\u0000\u0000\u0000\u0000\u0000\u0000\u0000\u0000\u0000\u0000\u0000\u0000\u0000\u0000\u0000\u0000\u0000\u0000\u0000\u0000\u0000\u0000\u0000\u0000\u0000\u0000\u0000\u0000\u0000\u0000\u0000\u0000\u0000\u0000\u0000\u0000\u0000\u0000\u0000\u0000\u0000\u0000��Mn�0\u0010��\u0005r\u0007����\u001d\u0004�A�\u0003/ZԀ��Yjd\u0011�I�\u001c\u000bvwݶ�A{�\u001e �r�Б�8r�n�\u001b�{x�8C����&5�h���p��\u0004���q��-\u0017��\u001fY\u0012Q�\\Y� c;��B�|\u0010��h &\u0014�b�J�j�y�%�U\u001c��H)|X+�cXq_\u0014Fõכ58�4=�Ep9��!�u��\u001a�\u001b�{��ŻŮ\"`).��\u001a��n)?\u001b\u001d|�\u0005&7[\n",
      "V�(�n\u000ez\u0013\f�d*x�(�ZY��`Y(\u001bA�熘�j�6S&D)j�Ԡч$�o4�\u0011K�\n",
      "N�j\u0015�rHX��;���\"\u0006���������?�?\u001e\u0004'K�n˾�_�39n\n",
      "T\u001c\u001b��\u000e��cȅA\u000b�K1S\u0001�`\u001e��[���Ù�\u00008��\u001dH[i��#�ߪ\u001d\u0015� �d�}\\V\u000b�\u0010�f~�\u0014�R\u0005�iM��\u001c\u001abJ�\u000e�\t�*�[A��y-4/��\u0006rx>H�)-��\u0013����\u0000\u0000\u0000��\u0003\u0000PK\u0003\u0004\u0014\u0000\u0006\u0000\u0000\u0000!\u0000���-Y\u0001\u0000\u0000H\u001f\u0000\u0000'\u0000\u0000\u0000xl/printerSettings/printerSettings1.bin�;n�@\u0010��\u0005�\u0012\u00059A�\u0005\"�p��\"�\u0013��%2�� E�H)�\u001b��K�\u0001�J�\u001c$efve+\u0016\u0010\u0005l\u0002��\u001a���oǻ;\u0001F��\t�x�=0�\u0010W衍\u000e���I=�n�GL0��q1\u001e�OL/\u001b\u001f�Ơ�yݯ�0�`X�\\�����'_�'�v1��\u0004���=�]�R}q��/��s�\u00044*j�(\u0012�@�\"w2n\u001c*�\u0004�\u0017�g s��)#L3��Z\u001eE��ys7��s'P>a\u0000-��>~kL\u001c��J����.�:+�vhKG�\u0013Y��\u001cq��`�؈��\u0010�IH@'����%���,D��Ţ`�m�2�� %m�\">��1}�{��)ּ���Rٳ���Z��]s��S�9c�\u0000\t�\u0000\t�\u0000\t�\u0000\t��0�a��\u0000\t�\u0000\t�%�o\u0000\u0000\u0000��\u0003\u0000PK\u0003\u0004\u0014\u0000\u0006\u0000\u0000\u0000!\u0000��#�c\u0001\u0000\u0000j\u0002\u0000\u0000\u0011\u0001docProps/core.xml �\u0004\u0001(�\u0000\u0001\u0000\u0000\u0000\u0000\u0000\u0000\u0000\u0000\u0000\u0000\u0000\u0000\u0000\u0000\u0000\u0000\u0000\u0000\u0000\u0000\u0000\u0000\u0000\u0000\u0000\u0000\u0000\u0000\u0000\u0000\u0000\u0000\u0000\u0000\u0000\u0000\u0000\u0000\u0000\u0000\u0000\u0000\u0000\u0000\u0000\u0000\u0000\u0000\u0000\u0000\u0000\u0000\u0000\u0000\u0000\u0000\u0000\u0000\u0000\u0000\u0000\u0000\u0000\u0000\u0000\u0000\u0000\u0000\u0000\u0000\u0000\u0000\u0000\u0000\u0000\u0000\u0000\u0000\u0000\u0000\u0000\u0000\u0000\u0000\u0000\u0000\u0000\u0000\u0000\u0000\u0000\u0000\u0000\u0000\u0000\u0000\u0000\u0000\u0000\u0000\u0000\u0000\u0000\u0000\u0000\u0000\u0000\u0000\u0000\u0000\u0000\u0000\u0000\u0000\u0000\u0000\u0000\u0000\u0000\u0000\u0000\u0000\u0000\u0000\u0000\u0000\u0000\u0000\u0000\u0000\u0000\u0000\u0000\u0000\u0000\u0000\u0000\u0000\u0000\u0000\u0000\u0000\u0000\u0000\u0000\u0000\u0000\u0000\u0000\u0000\u0000\u0000\u0000\u0000\u0000\u0000\u0000\u0000\u0000\u0000\u0000\u0000\u0000\u0000\u0000\u0000\u0000\u0000\u0000\u0000\u0000\u0000\u0000\u0000\u0000\u0000\u0000\u0000\u0000\u0000\u0000\u0000\u0000\u0000\u0000\u0000\u0000\u0000\u0000\u0000\u0000\u0000\u0000\u0000\u0000\u0000\u0000\u0000\u0000\u0000\u0000\u0000\u0000\u0000\u0000\u0000\u0000\u0000\u0000\u0000\u0000\u0000\u0000\u0000\u0000\u0000\u0000\u0000\u0000\u0000\u0000\u0000\u0000\u0000\u0000\u0000\u0000\u0000\u0000\u0000\u0000\u0000\u0000\u0000\u0000\u0000\u0000\u0000\u0000\u0000\u0000\u0000\u0000\u0000\u0000\u0000\u0000\u0000\u0000\u0000\u0000\u0000\u0000\u0000\u0000\u0000|��N�0\u0014�w$�!��nZZ�4�\u0000u�\u0012\u0012EEl�}�\u0006\u0012;�\n",
      "iW����\u001d�G�C�?�\u00021�����\\9\u0019��<x\u0001c3���F\u0004\u0005����Z\f��t\u001c\u000eP`\u001dW��Z�\u0010���Qzz���\tm���\u0012���\u0006��,\u0013�\u0010-�+\u0019�V,��6�\u000e�Ź6\u0005w�h\u0016���/\u00009�\u00058.��\u0006�偈vH)\u000e����\n",
      "@\n",
      "\f9\u0014���4�����\u0014�ρFi9�̭K�i\u0017�͖b+\u001e�+�\u001d�UUEU����)��\\�6U�Lջ\u0012��D\n",
      "&\fp�M:˔ԕ\n",
      "6�_�����[�[j�ɜ[7�K�g /��V�-�J�o̓�\u001e[:��'c�\u001e{e\u0016_^M�(�\u0010�\u000f\t\n",
      "���t\u0019!,�=�O\u001f��I�\u0017�.���AH�!�S�aq��\u0006-�\u001e�6��G�\n",
      "\u0000\u0000��\u0003\u0000PK\u0001\u0002-\u0000\u0014\u0000\u0006\u0000\u0000\u0000!\u0000��X�y\u0001\u0000\u0000\u0014\u0006\u0000\u0000\u0013\u0000\u0000\u0000\u0000\u0000\u0000\u0000\u0000\u0000\u0000\u0000\u0000\u0000\u0000\u0000\u0000\u0000[Content_Types].xmlPK\u0001\u0002-\u0000\u0014\u0000\u0006\u0000\u0000\u0000!\u0000�U0#�\u0000\u0000\u0000L\u0002\u0000\u0000\u000b\u0000\u0000\u0000\u0000\u0000\u0000\u0000\u0000\u0000\u0000\u0000\u0000\u0000�\u0003\u0000\u0000_rels/.relsPK\u0001\u0002-\u0000\u0014\u0000\u0006\u0000\u0000\u0000!\u0000�\t�(\u0002\u0001\u0000\u0000�\u0003\u0000\u0000\u001a\u0000\u0000\u0000\u0000\u0000\u0000\u0000\u0000\u0000\u0000\u0000\u0000\u0000�\u0006\u0000\u0000xl/_rels/workbook.xml.relsPK\u0001\u0002-\u0000\u0014\u0000\u0006\u0000\u0000\u0000!\u0000�|\u000e��\u0002\u0000\u0000b\u0006\u0000\u0000\u000f\u0000\u0000\u0000\u0000\u0000\u0000\u0000\u0000\u0000\u0000\u0000\u0000\u0000\u0019\t\u0000\u0000xl/workbook.xmlPK\u0001\u0002-\u0000\u0014\u0000\u0006\u0000\u0000\u0000!\u0000���PQ\u0007\u0000\u0000\u001e\"\u0000\u0000\u0013\u0000\u0000\u0000\u0000\u0000\u0000\u0000\u0000\u0000\u0000\u0000\u0000\u0000�\u000b\u0000\u0000xl/theme/theme1.xmlPK\u0001\u0002-\u0000\u0014\u0000\u0006\u0000\u0000\u0000!\u0000;m2K�\u0000\u0000\u0000B\u0001\u0000\u0000#\u0000\u0000\u0000\u0000\u0000\u0000\u0000\u0000\u0000\u0000\u0000\u0000\u0000n\u0013\u0000\u0000xl/worksheets/_rels/sheet1.xml.relsPK\u0001\u0002-\u0000\u0014\u0000\u0006\u0000\u0000\u0000!\u0000���e�\u0001\u0000\u0000�\u0003\u0000\u0000\u0018\u0000\u0000\u0000\u0000\u0000\u0000\u0000\u0000\u0000\u0000\u0000\u0000\u0000p\u0014\u0000\u0000xl/worksheets/sheet2.xmlPK\u0001\u0002-\u0000\u0014\u0000\u0006\u0000\u0000\u0000!\u0000O�ɒ�\u0001\u0000\u0000�\u0003\u0000\u0000\u0018\u0000\u0000\u0000\u0000\u0000\u0000\u0000\u0000\u0000\u0000\u0000\u0000\u0000d\u0016\u0000\u0000xl/worksheets/sheet3.xmlPK\u0001\u0002-\u0000\u0014\u0000\u0006\u0000\u0000\u0000!\u0000�����\u0003\u0000\u0000�\f\u0000\u0000\u0018\u0000\u0000\u0000\u0000\u0000\u0000\u0000\u0000\u0000\u0000\u0000\u0000\u0000Z\u0018\u0000\u0000xl/worksheets/sheet1.xmlPK\u0001\u0002-\u0000\u0014\u0000\u0006\u0000\u0000\u0000!\u0000\u0006�M�*\u0001\u0000\u0000f\u0005\u0000\u0000\u0014\u0000\u0000\u0000\u0000\u0000\u0000\u0000\u0000\u0000\u0000\u0000\u0000\u0000�\u001c\u0000\u0000xl/sharedStrings.xmlPK\u0001\u0002-\u0000\u0014\u0000\u0006\u0000\u0000\u0000!\u0000k�ˎ�\u0002\u0000\u0000\u001f\u0007\u0000\u0000\n",
      "\u0000\u0000\u0000\u0000\u0000\u0000\u0000\u0000\u0000\u0000\u0000\u0000\u0000�\u001d\u0000\u0000xl/styles.xmlPK\u0001\u0002-\u0000\u0014\u0000\u0006\u0000\u0000\u0000!\u0000�HH/�\u0001\u0000\u00006\u0003\u0000\u0000\u0010\u0000\u0000\u0000\u0000\u0000\u0000\u0000\u0000\u0000\u0000\u0000\u0000\u0000\u0001!\u0000\u0000docProps/app.xmlPK\u0001\u0002-\u0000\u0014\u0000\u0006\u0000\u0000\u0000!\u0000���-Y\u0001\u0000\u0000H\u001f\u0000\u0000'\u0000\u0000\u0000\u0000\u0000\u0000\u0000\u0000\u0000\u0000\u0000\u0000\u0000�#\u0000\u0000xl/printerSettings/printerSettings1.binPK\u0001\u0002-\u0000\u0014\u0000\u0006\u0000\u0000\u0000!\u0000��#�c\u0001\u0000\u0000j\u0002\u0000\u0000\u0011\u0000\u0000\u0000\u0000\u0000\u0000\u0000\u0000\u0000\u0000\u0000\u0000\u0000t%\u0000\u0000docProps/core.xmlPK\u0005\u0006\u0000\u0000\u0000\u0000\u000e\u0000\u000e\u0000�\u0003\u0000\u0000\u000e(\u0000\u0000\u0000\u0000\n"
     ]
    }
   ],
   "source": [
    "! type c:\\work\\demo.xlsx"
   ]
  },
  {
   "cell_type": "code",
   "execution_count": 23,
   "metadata": {},
   "outputs": [
    {
     "data": {
      "text/html": [
       "<div>\n",
       "<style scoped>\n",
       "    .dataframe tbody tr th:only-of-type {\n",
       "        vertical-align: middle;\n",
       "    }\n",
       "\n",
       "    .dataframe tbody tr th {\n",
       "        vertical-align: top;\n",
       "    }\n",
       "\n",
       "    .dataframe thead th {\n",
       "        text-align: right;\n",
       "    }\n",
       "</style>\n",
       "<table border=\"1\" class=\"dataframe\">\n",
       "  <thead>\n",
       "    <tr style=\"text-align: right;\">\n",
       "      <th></th>\n",
       "      <th>사번</th>\n",
       "      <th>성별</th>\n",
       "      <th>나이</th>\n",
       "      <th>판매금액</th>\n",
       "      <th>수입</th>\n",
       "    </tr>\n",
       "  </thead>\n",
       "  <tbody>\n",
       "    <tr>\n",
       "      <th>0</th>\n",
       "      <td>E001</td>\n",
       "      <td>M</td>\n",
       "      <td>34</td>\n",
       "      <td>123</td>\n",
       "      <td>350</td>\n",
       "    </tr>\n",
       "    <tr>\n",
       "      <th>1</th>\n",
       "      <td>E002</td>\n",
       "      <td>F</td>\n",
       "      <td>40</td>\n",
       "      <td>114</td>\n",
       "      <td>450</td>\n",
       "    </tr>\n",
       "    <tr>\n",
       "      <th>2</th>\n",
       "      <td>E003</td>\n",
       "      <td>F</td>\n",
       "      <td>37</td>\n",
       "      <td>135</td>\n",
       "      <td>169</td>\n",
       "    </tr>\n",
       "    <tr>\n",
       "      <th>3</th>\n",
       "      <td>E004</td>\n",
       "      <td>M</td>\n",
       "      <td>30</td>\n",
       "      <td>139</td>\n",
       "      <td>189</td>\n",
       "    </tr>\n",
       "    <tr>\n",
       "      <th>4</th>\n",
       "      <td>E005</td>\n",
       "      <td>F</td>\n",
       "      <td>44</td>\n",
       "      <td>117</td>\n",
       "      <td>183</td>\n",
       "    </tr>\n",
       "    <tr>\n",
       "      <th>5</th>\n",
       "      <td>E006</td>\n",
       "      <td>M</td>\n",
       "      <td>36</td>\n",
       "      <td>121</td>\n",
       "      <td>90</td>\n",
       "    </tr>\n",
       "    <tr>\n",
       "      <th>6</th>\n",
       "      <td>E007</td>\n",
       "      <td>M</td>\n",
       "      <td>32</td>\n",
       "      <td>133</td>\n",
       "      <td>166</td>\n",
       "    </tr>\n",
       "    <tr>\n",
       "      <th>7</th>\n",
       "      <td>E008</td>\n",
       "      <td>F</td>\n",
       "      <td>26</td>\n",
       "      <td>140</td>\n",
       "      <td>120</td>\n",
       "    </tr>\n",
       "    <tr>\n",
       "      <th>8</th>\n",
       "      <td>E009</td>\n",
       "      <td>M</td>\n",
       "      <td>32</td>\n",
       "      <td>133</td>\n",
       "      <td>75</td>\n",
       "    </tr>\n",
       "    <tr>\n",
       "      <th>9</th>\n",
       "      <td>E010</td>\n",
       "      <td>M</td>\n",
       "      <td>36</td>\n",
       "      <td>133</td>\n",
       "      <td>40</td>\n",
       "    </tr>\n",
       "  </tbody>\n",
       "</table>\n",
       "</div>"
      ],
      "text/plain": [
       "     사번 성별  나이  판매금액   수입\n",
       "0  E001  M  34   123  350\n",
       "1  E002  F  40   114  450\n",
       "2  E003  F  37   135  169\n",
       "3  E004  M  30   139  189\n",
       "4  E005  F  44   117  183\n",
       "5  E006  M  36   121   90\n",
       "6  E007  M  32   133  166\n",
       "7  E008  F  26   140  120\n",
       "8  E009  M  32   133   75\n",
       "9  E010  M  36   133   40"
      ]
     },
     "execution_count": 23,
     "metadata": {},
     "output_type": "execute_result"
    }
   ],
   "source": [
    "dfExcel = pd.read_excel('c:\\\\work\\\\demo.xlsx', 'Sheet1')\n",
    "dfExcel"
   ]
  },
  {
   "cell_type": "code",
   "execution_count": 24,
   "metadata": {},
   "outputs": [
    {
     "data": {
      "text/plain": [
       "(array([1., 1., 2., 3., 1., 1., 1.]),\n",
       " array([26.        , 28.57142857, 31.14285714, 33.71428571, 36.28571429,\n",
       "        38.85714286, 41.42857143, 44.        ]),\n",
       " <BarContainer object of 7 artists>)"
      ]
     },
     "execution_count": 24,
     "metadata": {},
     "output_type": "execute_result"
    },
    {
     "data": {
      "image/png": "[encoded data removed]",
      "text/plain": [
       "<Figure size 640x480 with 1 Axes>"
      ]
     },
     "metadata": {},
     "output_type": "display_data"
    }
   ],
   "source": [
    "#비어있는 그림판 준비\n",
    "fig = plt.figure()\n",
    "#1행1열1번차트\n",
    "ax = fig.add_subplot(1,1,1)\n",
    "#히스토그램, 7개 그룹으로 모아서 보여줌\n",
    "ax.hist(dfExcel['나이'], bins=7)\n"
   ]
  },
  {
   "cell_type": "code",
   "execution_count": 26,
   "metadata": {},
   "outputs": [
    {
     "data": {
      "text/plain": [
       "Text(0.5, 1.0, 'Sinewave Demo')"
      ]
     },
     "execution_count": 26,
     "metadata": {},
     "output_type": "execute_result"
    },
    {
     "data": {
      "image/png": "[encoded data removed]",
      "text/plain": [
       "<Figure size 1000x600 with 1 Axes>"
      ]
     },
     "metadata": {},
     "output_type": "display_data"
    }
   ],
   "source": [
    "import numpy as np\n",
    "t = np.arange(0,12, 0.01)\n",
    "y = np.sin(t)\n",
    "plt.figure(figsize=(10,6))\n",
    "plt.plot(t,y)\n",
    "plt.grid()\n",
    "plt.xlabel('time')\n",
    "plt.ylabel('Amplitude')\n",
    "plt.title('Sinewave Demo')"
   ]
  },
  {
   "cell_type": "code",
   "execution_count": 31,
   "metadata": {},
   "outputs": [
    {
     "data": {
      "text/plain": [
       "[<matplotlib.lines.Line2D at 0x10a067b0d30>]"
      ]
     },
     "execution_count": 31,
     "metadata": {},
     "output_type": "execute_result"
    },
    {
     "data": {
      "image/png": "[encoded data removed]",
      "text/plain": [
       "<Figure size 1000x600 with 1 Axes>"
      ]
     },
     "metadata": {},
     "output_type": "display_data"
    }
   ],
   "source": [
    "from matplotlib import markers\n",
    "from matplotlib.lines import lineStyles\n",
    "\n",
    "\n",
    "t = [0,1,2,3,4,5,6]\n",
    "y=[10,20,5,10,20,30,25]\n",
    "\n",
    "plt.figure(figsize=(10,6))\n",
    "plt.plot(t,y,color='blue', linestyle='dashed', marker='s',\n",
    "markerfacecolor='red', markersize=14 )"
   ]
  },
  {
   "cell_type": "code",
   "execution_count": null,
   "metadata": {},
   "outputs": [],
   "source": []
  }
 ],
 "metadata": {
  "kernelspec": {
   "display_name": "Python 3.9.10 64-bit",
   "language": "python",
   "name": "python3"
  },
  "language_info": {
   "codemirror_mode": {
    "name": "ipython",
    "version": 3
   },
   "file_extension": ".py",
   "mimetype": "text/x-python",
   "name": "python",
   "nbconvert_exporter": "python",
   "pygments_lexer": "ipython3",
   "version": "3.9.10"
  },
  "orig_nbformat": 4,
  "vscode": {
   "interpreter": {
    "hash": "81794d4967e6c3204c66dcd87b604927b115b27c00565d3d43f05ba2f3a2cb0d"
   }
  }
 },
 "nbformat": 4,
 "nbformat_minor": 2
}
